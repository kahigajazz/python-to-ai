{
  "nbformat": 4,
  "nbformat_minor": 0,
  "metadata": {
    "colab": {
      "provenance": [],
      "authorship_tag": "ABX9TyMy16XU+rH88RYGL/3Lg40y",
      "include_colab_link": true
    },
    "kernelspec": {
      "name": "python3",
      "display_name": "Python 3"
    },
    "language_info": {
      "name": "python"
    }
  },
  "cells": [
    {
      "cell_type": "markdown",
      "metadata": {
        "id": "view-in-github",
        "colab_type": "text"
      },
      "source": [
        "<a href=\"https://colab.research.google.com/github/kahigajazz/python-to-ai/blob/weight_converter/Python_1_Hour.ipynb\" target=\"_parent\"><img src=\"https://colab.research.google.com/assets/colab-badge.svg\" alt=\"Open In Colab\"/></a>"
      ]
    },
    {
      "cell_type": "code",
      "execution_count": null,
      "metadata": {
        "colab": {
          "base_uri": "https://localhost:8080/"
        },
        "id": "XTwptWhCOk8J",
        "outputId": "326a0fa2-c971-426e-c08b-5fbe70ac532f"
      },
      "outputs": [
        {
          "output_type": "stream",
          "name": "stdout",
          "text": [
            "Hello World\n"
          ]
        }
      ],
      "source": [
        "# Printing Output\n",
        "print(\"Hello World\")"
      ]
    },
    {
      "cell_type": "code",
      "source": [
        "# Variables\n",
        "age = 21\n",
        "age = 12\n",
        "price = 19.95\n",
        "first_name = \"Jazz\"\n",
        "is_online = True\n",
        "print(age, price, first_name, is_online)\n",
        "\n",
        "# Exercise\n",
        "patient_name = \"John Smith\"\n",
        "patient_age = 20\n",
        "is_new_patient = True\n",
        "print(patient_name, patient_age, is_new_patient)"
      ],
      "metadata": {
        "colab": {
          "base_uri": "https://localhost:8080/"
        },
        "id": "e9W8oQoVQNtk",
        "outputId": "f03cb88b-3be0-4afc-8f8b-d36ba0c774ed"
      },
      "execution_count": null,
      "outputs": [
        {
          "output_type": "stream",
          "name": "stdout",
          "text": [
            "12 19.95 Jazz True\n",
            "John Smith 20 True\n"
          ]
        }
      ]
    },
    {
      "cell_type": "code",
      "source": [
        "# Receive input\n",
        "name = input(\"What is your name? \")\n",
        "print(\"Hello \" + name) #String Concatenation"
      ],
      "metadata": {
        "colab": {
          "base_uri": "https://localhost:8080/"
        },
        "id": "IDf65CP6RHFm",
        "outputId": "f237783e-6db6-4cbb-cb2c-5f37d7759b0f"
      },
      "execution_count": null,
      "outputs": [
        {
          "output_type": "stream",
          "name": "stdout",
          "text": [
            "What is your name? Jazz\n",
            "Hello Jazz\n"
          ]
        }
      ]
    },
    {
      "cell_type": "code",
      "source": [
        "# Type Conversion\n",
        "birth_year = input(\"Enter your birth year: \") # Input function returns values as a string\n",
        "\n",
        "age = 2023 - int(birth_year) # Converts string to int\n",
        "\n",
        "print(age)\n",
        "\n",
        "# Others are like float(), str(), bool()\n",
        "\n",
        "# Exercise\n",
        "num_one = float(input(\"First Number: \"))\n",
        "num_two = float(input(\"Second Number: \"))\n",
        "\n",
        "sum = num_one + num_two\n",
        "\n",
        "print(\"Sum: \" + str(sum))"
      ],
      "metadata": {
        "colab": {
          "base_uri": "https://localhost:8080/"
        },
        "id": "_yShgWTPRulU",
        "outputId": "008d31d8-cc5a-40cc-b82e-ead73af33bf2"
      },
      "execution_count": null,
      "outputs": [
        {
          "output_type": "stream",
          "name": "stdout",
          "text": [
            "Enter your birth year: 2200\n",
            "-177\n",
            "First Number: 889\n",
            "Second Number: 2\n",
            "Sum: 891.0\n"
          ]
        }
      ]
    },
    {
      "cell_type": "code",
      "source": [
        "# Strings\n",
        "course = 'Python For Beginners'\n",
        "print(course.find('e'))\n",
        "print(course.upper())\n",
        "print(course.lower())\n",
        "print(course.replace('f', '1'))\n",
        "print('Python' in course)"
      ],
      "metadata": {
        "colab": {
          "base_uri": "https://localhost:8080/"
        },
        "id": "YRAAIJo8UTGr",
        "outputId": "8fc27369-05d2-4c5c-a207-c2a736bce2a1"
      },
      "execution_count": null,
      "outputs": [
        {
          "output_type": "stream",
          "name": "stdout",
          "text": [
            "12\n",
            "PYTHON FOR BEGINNERS\n",
            "python for beginners\n",
            "Python For Beginners\n",
            "True\n"
          ]
        }
      ]
    },
    {
      "cell_type": "code",
      "source": [
        "# Arithmetic Operators\n",
        "print(10 + 3)\n",
        "print(10 - 3)\n",
        "print(10 * 3)\n",
        "print(10 / 3)\n",
        "print(10 // 3)\n",
        "print(10 % 3)\n",
        "print(10 ** 3)\n",
        "\n",
        "x = 10\n",
        "x += 3 # Augmented Assignment Operator\n",
        "x -= 3"
      ],
      "metadata": {
        "colab": {
          "base_uri": "https://localhost:8080/"
        },
        "id": "vL2Q3NafZRWa",
        "outputId": "44c245f0-7208-49cf-b2ad-be654a1c4c0a"
      },
      "execution_count": null,
      "outputs": [
        {
          "output_type": "stream",
          "name": "stdout",
          "text": [
            "13\n",
            "7\n",
            "30\n",
            "3.3333333333333335\n",
            "3\n",
            "1\n",
            "1000\n"
          ]
        }
      ]
    },
    {
      "cell_type": "code",
      "source": [
        "# Operator Precedence\n",
        "x = 10 + 3 * 2\n",
        "print(x)"
      ],
      "metadata": {
        "colab": {
          "base_uri": "https://localhost:8080/"
        },
        "id": "fZiOuJ2nZ1hk",
        "outputId": "c4249e32-5738-42a2-88c5-ce34975785df"
      },
      "execution_count": null,
      "outputs": [
        {
          "output_type": "stream",
          "name": "stdout",
          "text": [
            "16\n"
          ]
        }
      ]
    },
    {
      "cell_type": "code",
      "source": [
        "# Comparison Operators\n",
        "x = 3 > 2\n",
        "x = 3 == 2\n",
        "x = 3 >= 2\n",
        "x = 3 < 2\n",
        "x = 3 <= 2\n",
        "x = 3 != 2\n",
        "\n",
        "print(x)"
      ],
      "metadata": {
        "colab": {
          "base_uri": "https://localhost:8080/"
        },
        "id": "yxXfLcZAaKcK",
        "outputId": "70df9dfc-8b83-45f7-d393-ac5b8fd91a21"
      },
      "execution_count": null,
      "outputs": [
        {
          "output_type": "stream",
          "name": "stdout",
          "text": [
            "True\n"
          ]
        }
      ]
    },
    {
      "cell_type": "code",
      "source": [
        "# Logical Operators\n",
        "price = 5\n",
        "print(price > 10 and price < 30)\n",
        "print(price > 10 or price < 30)\n",
        "print(not price > 10)"
      ],
      "metadata": {
        "colab": {
          "base_uri": "https://localhost:8080/"
        },
        "id": "_LSom2-fajkm",
        "outputId": "6b314920-7a09-448d-8568-3429f501d6ad"
      },
      "execution_count": null,
      "outputs": [
        {
          "output_type": "stream",
          "name": "stdout",
          "text": [
            "False\n",
            "True\n",
            "True\n"
          ]
        }
      ]
    },
    {
      "cell_type": "code",
      "source": [
        "# If Statements\n",
        "temp = 25\n",
        "\n",
        "if temp > 30:\n",
        "    print(\"The weather is hot\")\n",
        "    print(\"Drink plenty of water\")\n",
        "elif temp > 20:\n",
        "    print(\"It's a nice day\")\n",
        "elif temp > 10:\n",
        "    print(\"It is a bit frosty. Stay sharp\")\n",
        "else:\n",
        "    print(\"Damn. Hope you got some jackets\")\n",
        "print(\"Done\")"
      ],
      "metadata": {
        "colab": {
          "base_uri": "https://localhost:8080/"
        },
        "id": "oCtyCrbabDU8",
        "outputId": "c3d0ceeb-62c5-4b80-b80e-0433d1828c2e"
      },
      "execution_count": null,
      "outputs": [
        {
          "output_type": "stream",
          "name": "stdout",
          "text": [
            "It's a nice day\n",
            "Done\n"
          ]
        }
      ]
    },
    {
      "cell_type": "code",
      "source": [
        "# Exercise 2: Weight Converter Program\n",
        "\n",
        "weight = float(input(\"Weight: \"))\n",
        "choice = input(\"Kg(s) or lbs? Input 'k' for kgs, 'l' for lbs: \")\n",
        "\n",
        "if choice == 'k':\n",
        "    print(\"Weight in kg(s): \" + str(weight))\n",
        "elif choice == 'l':\n",
        "    weight = weight * 2.20462\n",
        "    print(\"Weight in lbs: \" + str(weight))\n",
        "else:\n",
        "    print(\"Please choose the options given!\")"
      ],
      "metadata": {
        "colab": {
          "base_uri": "https://localhost:8080/"
        },
        "id": "LDddnCrNcPrQ",
        "outputId": "41e30df3-aa03-475a-b888-267f7d615362"
      },
      "execution_count": null,
      "outputs": [
        {
          "output_type": "stream",
          "name": "stdout",
          "text": [
            "Weight: 62.25\n",
            "Kg(s) or lbs? Input 'k' for kgs, 'l' for lbs: l\n",
            "Weight in lbs: 137.237595\n"
          ]
        }
      ]
    },
    {
      "cell_type": "code",
      "source": [
        "# While loops\n",
        "i = 1\n",
        "while i <= 5:\n",
        "    print(i)\n",
        "    i = i + 1\n",
        "while i <= 10:\n",
        "    print(i * '*')\n",
        "    i = i + 1"
      ],
      "metadata": {
        "colab": {
          "base_uri": "https://localhost:8080/"
        },
        "id": "xjZ9rA90hZwX",
        "outputId": "6161b074-5541-4c55-adca-0cd9909581bf"
      },
      "execution_count": null,
      "outputs": [
        {
          "output_type": "stream",
          "name": "stdout",
          "text": [
            "1\n",
            "2\n",
            "3\n",
            "4\n",
            "5\n",
            "******\n",
            "*******\n",
            "********\n",
            "*********\n",
            "**********\n"
          ]
        }
      ]
    },
    {
      "cell_type": "code",
      "source": [
        "# Lists\n",
        "names = [\"John\", \"Jazz\", \"Abby\", \"Claire\"]\n",
        "print(names)\n",
        "names[0] = \"Jon\"\n",
        "print(names)\n",
        "print(names[0:3])\n",
        "print(names)"
      ],
      "metadata": {
        "colab": {
          "base_uri": "https://localhost:8080/"
        },
        "id": "B5yQlpqEiM4t",
        "outputId": "6d979b52-7b26-4496-cf6b-4993f535fda4"
      },
      "execution_count": null,
      "outputs": [
        {
          "output_type": "stream",
          "name": "stdout",
          "text": [
            "['John', 'Jazz', 'Abby', 'Claire']\n",
            "['Jon', 'Jazz', 'Abby', 'Claire']\n",
            "['Jon', 'Jazz', 'Abby']\n",
            "['Jon', 'Jazz', 'Abby', 'Claire']\n"
          ]
        }
      ]
    },
    {
      "cell_type": "code",
      "source": [
        "# List Methods\n",
        "numbers = [1,2,3,4,5]\n",
        "numbers.append(6)\n",
        "print(numbers)\n",
        "\n",
        "numbers.insert(0, -1)\n",
        "print(numbers)\n",
        "\n",
        "numbers.remove(3)\n",
        "print(numbers)\n",
        "\n",
        "numbers.clear()\n",
        "print(numbers)\n",
        "\n",
        "numbers = [1,2,3,4,5]\n",
        "print(numbers)\n",
        "print(1 in numbers)\n",
        "print(10 in numbers)\n",
        "print(len(numbers))"
      ],
      "metadata": {
        "colab": {
          "base_uri": "https://localhost:8080/"
        },
        "id": "m0QBhKz9i-kE",
        "outputId": "bd299020-aabd-4c2f-e5db-e050b7838a31"
      },
      "execution_count": null,
      "outputs": [
        {
          "output_type": "stream",
          "name": "stdout",
          "text": [
            "[1, 2, 3, 4, 5, 6]\n",
            "[-1, 1, 2, 3, 4, 5, 6]\n",
            "[-1, 1, 2, 4, 5, 6]\n",
            "[]\n",
            "[1, 2, 3, 4, 5]\n",
            "True\n",
            "False\n",
            "5\n"
          ]
        }
      ]
    },
    {
      "cell_type": "code",
      "source": [
        "# For loop method\n",
        "numbers = [10,29,28,76,90,67,8901]\n",
        "print(numbers)\n",
        "\n",
        "for item in numbers:\n",
        "    print(item)\n",
        "    print(\" \")\n",
        "\n",
        "i = 0\n",
        "while i < len(numbers):      # For loop solves this problem\n",
        "    print(numbers[i])\n",
        "    i = i + 1"
      ],
      "metadata": {
        "colab": {
          "base_uri": "https://localhost:8080/"
        },
        "id": "ps8rT_2cjy_X",
        "outputId": "5ea61fad-2710-47eb-b4fe-b31180a66443"
      },
      "execution_count": null,
      "outputs": [
        {
          "output_type": "stream",
          "name": "stdout",
          "text": [
            "[10, 29, 28, 76, 90, 67, 8901]\n",
            "10\n",
            " \n",
            "29\n",
            " \n",
            "28\n",
            " \n",
            "76\n",
            " \n",
            "90\n",
            " \n",
            "67\n",
            " \n",
            "8901\n",
            " \n",
            "10\n",
            "29\n",
            "28\n",
            "76\n",
            "90\n",
            "67\n",
            "8901\n"
          ]
        }
      ]
    },
    {
      "cell_type": "code",
      "source": [
        "# range() Function\n",
        "numbers = range(5, 1000, 100)\n",
        "print(numbers)\n",
        "\n",
        "for number in numbers:\n",
        "    print(number)"
      ],
      "metadata": {
        "colab": {
          "base_uri": "https://localhost:8080/"
        },
        "id": "EagaB6VMkYld",
        "outputId": "a631aabb-3dce-4144-925a-de4e09f019e8"
      },
      "execution_count": null,
      "outputs": [
        {
          "output_type": "stream",
          "name": "stdout",
          "text": [
            "range(5, 1000, 100)\n",
            "5\n",
            "105\n",
            "205\n",
            "305\n",
            "405\n",
            "505\n",
            "605\n",
            "705\n",
            "805\n",
            "905\n"
          ]
        }
      ]
    },
    {
      "cell_type": "code",
      "source": [
        "# Tuples\n",
        "numbers = (1, 2, 3)\n",
        "print(numbers.count(3))\n",
        "print(numbers.index(2))"
      ],
      "metadata": {
        "colab": {
          "base_uri": "https://localhost:8080/"
        },
        "id": "UVuLdK3ElDnU",
        "outputId": "e28408ea-3249-4586-cc40-de2837458305"
      },
      "execution_count": null,
      "outputs": [
        {
          "output_type": "stream",
          "name": "stdout",
          "text": [
            "1\n",
            "1\n"
          ]
        }
      ]
    }
  ]
}