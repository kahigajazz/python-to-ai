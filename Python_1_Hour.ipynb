{
  "nbformat": 4,
  "nbformat_minor": 0,
  "metadata": {
    "colab": {
      "provenance": [],
      "authorship_tag": "ABX9TyPe+SSOmhrVDiAPPQT8GCA0",
      "include_colab_link": true
    },
    "kernelspec": {
      "name": "python3",
      "display_name": "Python 3"
    },
    "language_info": {
      "name": "python"
    }
  },
  "cells": [
    {
      "cell_type": "markdown",
      "metadata": {
        "id": "view-in-github",
        "colab_type": "text"
      },
      "source": [
        "<a href=\"https://colab.research.google.com/github/kahigajazz/python-to-ai/blob/python_intro/Python_1_Hour.ipynb\" target=\"_parent\"><img src=\"https://colab.research.google.com/assets/colab-badge.svg\" alt=\"Open In Colab\"/></a>"
      ]
    },
    {
      "cell_type": "code",
      "execution_count": 1,
      "metadata": {
        "colab": {
          "base_uri": "https://localhost:8080/"
        },
        "id": "XTwptWhCOk8J",
        "outputId": "326a0fa2-c971-426e-c08b-5fbe70ac532f"
      },
      "outputs": [
        {
          "output_type": "stream",
          "name": "stdout",
          "text": [
            "Hello World\n"
          ]
        }
      ],
      "source": [
        "# Printing Output\n",
        "print(\"Hello World\")"
      ]
    },
    {
      "cell_type": "code",
      "source": [
        "# Variables\n",
        "age = 21\n",
        "age = 12\n",
        "price = 19.95\n",
        "first_name = \"Jazz\"\n",
        "is_online = True\n",
        "print(age, price, first_name, is_online)\n",
        "\n",
        "# Exercise\n",
        "patient_name = \"John Smith\"\n",
        "patient_age = 20\n",
        "is_new_patient = True\n",
        "print(patient_name, patient_age, is_new_patient)"
      ],
      "metadata": {
        "colab": {
          "base_uri": "https://localhost:8080/"
        },
        "id": "e9W8oQoVQNtk",
        "outputId": "f03cb88b-3be0-4afc-8f8b-d36ba0c774ed"
      },
      "execution_count": 7,
      "outputs": [
        {
          "output_type": "stream",
          "name": "stdout",
          "text": [
            "12 19.95 Jazz True\n",
            "John Smith 20 True\n"
          ]
        }
      ]
    },
    {
      "cell_type": "code",
      "source": [
        "# Receive input\n",
        "name = input(\"What is your name? \")\n",
        "print(\"Hello \" + name) #String Concatenation"
      ],
      "metadata": {
        "colab": {
          "base_uri": "https://localhost:8080/"
        },
        "id": "IDf65CP6RHFm",
        "outputId": "f237783e-6db6-4cbb-cb2c-5f37d7759b0f"
      },
      "execution_count": 11,
      "outputs": [
        {
          "output_type": "stream",
          "name": "stdout",
          "text": [
            "What is your name? Jazz\n",
            "Hello Jazz\n"
          ]
        }
      ]
    },
    {
      "cell_type": "code",
      "source": [
        "# Type Conversion\n",
        "birth_year = input(\"Enter your birth year: \") # Input function returns values as a string\n",
        "\n",
        "age = 2023 - int(birth_year) # Converts string to int\n",
        "\n",
        "print(age)\n",
        "\n",
        "# Others are like float(), str(), bool()\n",
        "\n",
        "# Exercise\n",
        "num_one = float(input(\"First Number: \"))\n",
        "num_two = float(input(\"Second Number: \"))\n",
        "\n",
        "sum = num_one + num_two\n",
        "\n",
        "print(\"Sum: \" + str(sum))"
      ],
      "metadata": {
        "colab": {
          "base_uri": "https://localhost:8080/"
        },
        "id": "_yShgWTPRulU",
        "outputId": "008d31d8-cc5a-40cc-b82e-ead73af33bf2"
      },
      "execution_count": 19,
      "outputs": [
        {
          "output_type": "stream",
          "name": "stdout",
          "text": [
            "Enter your birth year: 2200\n",
            "-177\n",
            "First Number: 889\n",
            "Second Number: 2\n",
            "Sum: 891.0\n"
          ]
        }
      ]
    },
    {
      "cell_type": "code",
      "source": [
        "# Strings\n",
        "course = 'Python For Beginners'\n",
        "print(course.find('e'))\n",
        "print(course.upper())\n",
        "print(course.lower())\n",
        "print(course.replace('f', '1'))\n",
        "print('Python' in course)"
      ],
      "metadata": {
        "colab": {
          "base_uri": "https://localhost:8080/"
        },
        "id": "YRAAIJo8UTGr",
        "outputId": "8fc27369-05d2-4c5c-a207-c2a736bce2a1"
      },
      "execution_count": 31,
      "outputs": [
        {
          "output_type": "stream",
          "name": "stdout",
          "text": [
            "12\n",
            "PYTHON FOR BEGINNERS\n",
            "python for beginners\n",
            "Python For Beginners\n",
            "True\n"
          ]
        }
      ]
    }
  ]
}